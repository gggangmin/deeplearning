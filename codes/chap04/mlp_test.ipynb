{
 "cells": [
  {
   "cell_type": "code",
   "execution_count": 1,
   "id": "9fcd98ec",
   "metadata": {},
   "outputs": [],
   "source": [
    "%run ../chap01/abalone.ipynb"
   ]
  },
  {
   "cell_type": "code",
   "execution_count": 2,
   "id": "49b1f080",
   "metadata": {},
   "outputs": [],
   "source": [
    "%run ../chap04/mlp.ipynb"
   ]
  },
  {
   "cell_type": "code",
   "execution_count": 3,
   "id": "681d1c0e",
   "metadata": {},
   "outputs": [],
   "source": [
    "set_hidden([])"
   ]
  },
  {
   "cell_type": "code",
   "execution_count": 4,
   "id": "fca8658d",
   "metadata": {},
   "outputs": [
    {
     "name": "stdout",
     "output_type": "stream",
     "text": [
      "은닉 계층 0개를 갖는 다층 퍼셉트론이 작동되었습니다.\n",
      "Epoch 1: loss = 35.766, accuracy = 0.548/0.804\n",
      "Epoch 2: loss = 9.426, accuracy = 0.798/0.800\n",
      "Epoch 3: loss = 8.412, accuracy = 0.794/0.802\n",
      "Epoch 4: loss = 8.163, accuracy = 0.798/0.804\n",
      "Epoch 5: loss = 8.001, accuracy = 0.800/0.806\n",
      "Epoch 6: loss = 7.873, accuracy = 0.802/0.809\n",
      "Epoch 7: loss = 7.761, accuracy = 0.805/0.808\n",
      "Epoch 8: loss = 7.666, accuracy = 0.805/0.811\n",
      "Epoch 9: loss = 7.578, accuracy = 0.806/0.812\n",
      "Epoch 10: loss = 7.498, accuracy = 0.808/0.812\n",
      "\n",
      "Final Test : final accuracy = 0.812\n"
     ]
    }
   ],
   "source": [
    "abalone_exec()"
   ]
  },
  {
   "cell_type": "code",
   "execution_count": 5,
   "id": "0b1a3c6f",
   "metadata": {},
   "outputs": [
    {
     "name": "stdout",
     "output_type": "stream",
     "text": [
      "은닉 계층 하나를 갖는 다층 퍼셉트론이 작동되었습니다.\n",
      "Epoch 10: loss = 6.638, accuracy = 0.810/0.796\n",
      "Epoch 20: loss = 6.066, accuracy = 0.818/0.811\n",
      "Epoch 30: loss = 5.398, accuracy = 0.830/0.819\n",
      "Epoch 40: loss = 4.997, accuracy = 0.837/0.832\n",
      "Epoch 50: loss = 4.884, accuracy = 0.840/0.833\n",
      "\n",
      "Final Test : final accuracy = 0.833\n"
     ]
    }
   ],
   "source": [
    "set_hidden(4)\n",
    "abalone_exec(epoch_count=50, report=10)"
   ]
  },
  {
   "cell_type": "code",
   "execution_count": 6,
   "id": "24088afb",
   "metadata": {},
   "outputs": [
    {
     "name": "stdout",
     "output_type": "stream",
     "text": [
      "은닉 계층 하나를 갖는 다층 퍼셉트론이 작동되었습니다.\n",
      "Epoch 10: loss = 6.685, accuracy = 0.807/0.813\n",
      "Epoch 20: loss = 6.154, accuracy = 0.816/0.816\n",
      "Epoch 30: loss = 5.481, accuracy = 0.828/0.816\n",
      "Epoch 40: loss = 5.019, accuracy = 0.837/0.820\n",
      "Epoch 50: loss = 4.859, accuracy = 0.839/0.839\n",
      "\n",
      "Final Test : final accuracy = 0.839\n"
     ]
    }
   ],
   "source": [
    "#난수효과 확인\n",
    "abalone_exec(epoch_count=50, report=10)"
   ]
  },
  {
   "cell_type": "code",
   "execution_count": 7,
   "id": "d533a54a",
   "metadata": {},
   "outputs": [
    {
     "name": "stdout",
     "output_type": "stream",
     "text": [
      "은닉 계층 하나를 갖는 다층 퍼셉트론이 작동되었습니다.\n",
      "Epoch 10: loss = 0.094, accuracy = 0.972/0.972\n",
      "Epoch 20: loss = 0.091, accuracy = 0.973/0.974\n",
      "Epoch 30: loss = 0.091, accuracy = 0.973/0.974\n",
      "Epoch 40: loss = 0.089, accuracy = 0.974/0.974\n",
      "Epoch 50: loss = 0.089, accuracy = 0.974/0.975\n",
      "\n",
      "Final Test : final accuracy = 0.975\n"
     ]
    }
   ],
   "source": [
    "%run ../chap02/pulsar.ipynb\n",
    "%run ../chap04/mlp.ipynb\n",
    "set_hidden(6)\n",
    "pulsar_exec(epoch_count=50, report=10)"
   ]
  },
  {
   "cell_type": "code",
   "execution_count": 10,
   "id": "269d7cc8",
   "metadata": {},
   "outputs": [
    {
     "name": "stdout",
     "output_type": "stream",
     "text": [
      "은닉 계층 1개를 갖는 다층 퍼셉트론이 작동되었습니다.\n",
      "Epoch 10: loss = 0.090, accuracy = 0.973/0.969\n",
      "Epoch 20: loss = 0.087, accuracy = 0.974/0.969\n",
      "Epoch 30: loss = 0.085, accuracy = 0.975/0.973\n",
      "Epoch 40: loss = 0.083, accuracy = 0.976/0.972\n",
      "Epoch 50: loss = 0.083, accuracy = 0.976/0.972\n",
      "\n",
      "Final Test : final accuracy = 0.972\n"
     ]
    }
   ],
   "source": [
    "set_hidden([6])\n",
    "pulsar_exec(epoch_count=50, report=10)"
   ]
  },
  {
   "cell_type": "code",
   "execution_count": 11,
   "id": "4c2794fe",
   "metadata": {},
   "outputs": [
    {
     "name": "stdout",
     "output_type": "stream",
     "text": [
      "은닉 계층 2개를 갖는 다층 퍼셉트론이 작동되었습니다.\n",
      "Epoch 40: loss = 0.090, accuracy = 0.973/0.972\n",
      "Epoch 80: loss = 0.086, accuracy = 0.975/0.974\n",
      "Epoch 120: loss = 0.084, accuracy = 0.976/0.971\n",
      "Epoch 160: loss = 0.081, accuracy = 0.976/0.972\n",
      "Epoch 200: loss = 0.081, accuracy = 0.976/0.973\n",
      "\n",
      "Final Test : final accuracy = 0.973\n"
     ]
    }
   ],
   "source": [
    "set_hidden([12,6])\n",
    "pulsar_exec(epoch_count=200, report=40)"
   ]
  },
  {
   "cell_type": "code",
   "execution_count": 12,
   "id": "896230ed",
   "metadata": {},
   "outputs": [
    {
     "name": "stdout",
     "output_type": "stream",
     "text": [
      "은닉 계층 하나를 갖는 다층 퍼셉트론이 작동되었습니다.\n",
      "Epoch 10: loss = 1.849, accuracy = 0.352/0.325\n",
      "Epoch 20: loss = 1.786, accuracy = 0.352/0.325\n",
      "Epoch 30: loss = 1.747, accuracy = 0.352/0.325\n",
      "Epoch 40: loss = 1.723, accuracy = 0.352/0.325\n",
      "Epoch 50: loss = 1.708, accuracy = 0.352/0.325\n",
      "\n",
      "Final Test : final accuracy = 0.325\n"
     ]
    }
   ],
   "source": [
    "%run ../chap03/steel.ipynb\n",
    "%run ../chap04/mlp.ipynb\n",
    "\n",
    "set_hidden(10)\n",
    "steel_exec(epoch_count=50, report=10)"
   ]
  },
  {
   "cell_type": "code",
   "execution_count": 13,
   "id": "562e9b38",
   "metadata": {},
   "outputs": [
    {
     "name": "stdout",
     "output_type": "stream",
     "text": [
      "은닉 계층 3개를 갖는 다층 퍼셉트론이 작동되었습니다.\n",
      "Epoch 10: loss = 1.855, accuracy = 0.346/0.350\n",
      "Epoch 20: loss = 1.795, accuracy = 0.346/0.350\n",
      "Epoch 30: loss = 1.758, accuracy = 0.346/0.350\n",
      "Epoch 40: loss = 1.735, accuracy = 0.346/0.350\n",
      "Epoch 50: loss = 1.721, accuracy = 0.346/0.350\n",
      "\n",
      "Final Test : final accuracy = 0.350\n"
     ]
    }
   ],
   "source": [
    "set_hidden([12,6,4])\n",
    "steel_exec(epoch_count=50, report=10)"
   ]
  },
  {
   "cell_type": "code",
   "execution_count": 14,
   "id": "a2478f3a",
   "metadata": {},
   "outputs": [
    {
     "name": "stdout",
     "output_type": "stream",
     "text": [
      "은닉 계층 3개를 갖는 다층 퍼셉트론이 작동되었습니다.\n",
      "Epoch 10: loss = 1.738, accuracy = 0.257/0.182\n",
      "Epoch 20: loss = 1.618, accuracy = 0.315/0.468\n",
      "Epoch 30: loss = 1.604, accuracy = 0.390/0.389\n",
      "Epoch 40: loss = 1.594, accuracy = 0.422/0.471\n",
      "Epoch 50: loss = 1.584, accuracy = 0.444/0.471\n",
      "\n",
      "Final Test : final accuracy = 0.471\n"
     ]
    }
   ],
   "source": [
    "LEARNING_RATE=0.0001\n",
    "hidden_config = [12,6,4]\n",
    "steel_exec(epoch_count=50, report=10)"
   ]
  },
  {
   "cell_type": "code",
   "execution_count": null,
   "id": "8070d810",
   "metadata": {},
   "outputs": [],
   "source": []
  }
 ],
 "metadata": {
  "kernelspec": {
   "display_name": "deeplearning",
   "language": "python",
   "name": "dl"
  },
  "language_info": {
   "codemirror_mode": {
    "name": "ipython",
    "version": 3
   },
   "file_extension": ".py",
   "mimetype": "text/x-python",
   "name": "python",
   "nbconvert_exporter": "python",
   "pygments_lexer": "ipython3",
   "version": "3.11.0"
  }
 },
 "nbformat": 4,
 "nbformat_minor": 5
}
