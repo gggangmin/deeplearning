{
 "cells": [
  {
   "cell_type": "code",
   "execution_count": 1,
   "id": "68ce46ed",
   "metadata": {},
   "outputs": [],
   "source": [
    "%run ../chap01/abalone.ipynb"
   ]
  },
  {
   "cell_type": "code",
   "execution_count": 2,
   "id": "ca443d28",
   "metadata": {},
   "outputs": [],
   "source": [
    "%run ../chap04/mlp.ipynb"
   ]
  },
  {
   "cell_type": "code",
   "execution_count": 3,
   "id": "120395df",
   "metadata": {},
   "outputs": [],
   "source": [
    "set_hidden([])"
   ]
  },
  {
   "cell_type": "code",
   "execution_count": 4,
   "id": "62c43d40",
   "metadata": {},
   "outputs": [
    {
     "name": "stdout",
     "output_type": "stream",
     "text": [
      "은닉 계층 0개를 갖는 다층 퍼셉트론이 작동되었습니다.\n",
      "Epoch 1: loss = 35.766, accuracy = 0.548/0.804\n",
      "Epoch 2: loss = 9.426, accuracy = 0.798/0.800\n",
      "Epoch 3: loss = 8.412, accuracy = 0.794/0.802\n",
      "Epoch 4: loss = 8.163, accuracy = 0.798/0.804\n",
      "Epoch 5: loss = 8.001, accuracy = 0.800/0.806\n",
      "Epoch 6: loss = 7.873, accuracy = 0.802/0.809\n",
      "Epoch 7: loss = 7.761, accuracy = 0.805/0.808\n",
      "Epoch 8: loss = 7.666, accuracy = 0.805/0.811\n",
      "Epoch 9: loss = 7.578, accuracy = 0.806/0.812\n",
      "Epoch 10: loss = 7.498, accuracy = 0.808/0.812\n",
      "\n",
      "Final Test : final accuracy = 0.812\n"
     ]
    }
   ],
   "source": [
    "abalone_exec()"
   ]
  },
  {
   "cell_type": "code",
   "execution_count": 5,
   "id": "4c20257a",
   "metadata": {},
   "outputs": [
    {
     "name": "stdout",
     "output_type": "stream",
     "text": [
      "은닉 계층 하나를 갖는 다층 퍼셉트론이 작동되었습니다.\n",
      "Epoch 10: loss = 6.638, accuracy = 0.810/0.796\n",
      "Epoch 20: loss = 6.066, accuracy = 0.818/0.811\n",
      "Epoch 30: loss = 5.398, accuracy = 0.830/0.819\n",
      "Epoch 40: loss = 4.997, accuracy = 0.837/0.832\n",
      "Epoch 50: loss = 4.884, accuracy = 0.840/0.833\n",
      "\n",
      "Final Test : final accuracy = 0.833\n"
     ]
    }
   ],
   "source": [
    "set_hidden(4)\n",
    "abalone_exec(epoch_count=50, report=10)"
   ]
  },
  {
   "cell_type": "code",
   "execution_count": 6,
   "id": "f775efe9",
   "metadata": {},
   "outputs": [
    {
     "name": "stdout",
     "output_type": "stream",
     "text": [
      "은닉 계층 하나를 갖는 다층 퍼셉트론이 작동되었습니다.\n",
      "Epoch 10: loss = 6.685, accuracy = 0.807/0.813\n",
      "Epoch 20: loss = 6.154, accuracy = 0.816/0.816\n",
      "Epoch 30: loss = 5.481, accuracy = 0.828/0.816\n",
      "Epoch 40: loss = 5.019, accuracy = 0.837/0.820\n",
      "Epoch 50: loss = 4.859, accuracy = 0.839/0.839\n",
      "\n",
      "Final Test : final accuracy = 0.839\n"
     ]
    }
   ],
   "source": [
    "#난수효과 확인\n",
    "abalone_exec(epoch_count=50, report=10)"
   ]
  },
  {
   "cell_type": "code",
   "execution_count": null,
   "id": "9c302a69",
   "metadata": {},
   "outputs": [],
   "source": []
  }
 ],
 "metadata": {
  "kernelspec": {
   "display_name": "deeplearning",
   "language": "python",
   "name": "dl"
  },
  "language_info": {
   "codemirror_mode": {
    "name": "ipython",
    "version": 3
   },
   "file_extension": ".py",
   "mimetype": "text/x-python",
   "name": "python",
   "nbconvert_exporter": "python",
   "pygments_lexer": "ipython3",
   "version": "3.11.0"
  }
 },
 "nbformat": 4,
 "nbformat_minor": 5
}
